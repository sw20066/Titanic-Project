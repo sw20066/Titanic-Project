{
 "cells": [
  {
   "cell_type": "code",
   "execution_count": 36,
   "metadata": {
    "collapsed": true
   },
   "outputs": [],
   "source": [
    "import pandas as pd\n",
    "import numpy as np\n",
    "import matplotlib.pyplot as plt\n",
    "import seaborn as sns"
   ]
  },
  {
   "cell_type": "code",
   "execution_count": 37,
   "metadata": {
    "collapsed": true
   },
   "outputs": [],
   "source": [
    "#Function to get the standard deviation for each column in a Dataframe\n",
    "def standardize_df(df):\n",
    "    mean_of_column = df.mean()\n",
    "    std_of_column = df.std()\n",
    "    return (df - mean_of_column)/std_of_column"
   ]
  },
  {
   "cell_type": "code",
   "execution_count": 60,
   "metadata": {
    "collapsed": true
   },
   "outputs": [],
   "source": [
    "#Two Proportion Z-Test which follows the equation as shown below. \n",
    "def ztest(series1, series2, n1, n2, popmean):\n",
    "    n1 = float(len(n1))\n",
    "    n2 = float(len(n2))\n",
    "    series1 = float(len(series1))\n",
    "    series2 = float(len(series2))\n",
    "    p1 = series1/n1\n",
    "    p2 = series2/n2\n",
    "    z = (p1 - p2)/math.sqrt(popmean * (1-popmean) * ((1/n1)+(1/n2)))\n",
    "    return z"
   ]
  },
  {
   "cell_type": "markdown",
   "metadata": {},
   "source": [
    "\\begin{equation}\n",
    "Z=\\dfrac{(\\hat{p}_1-\\hat{p}_2)-0}{\\sqrt{\\hat{p}(1-\\hat{p})\\left(\\dfrac{1}{n_1}+\\dfrac{1}{n_2}\\right)}}\n",
    "\\end{equation}"
   ]
  },
  {
   "cell_type": "markdown",
   "metadata": {},
   "source": [
    "In this project, I will be mainly exploring factors and characteristics that are more likely to be present in the passengers who survived the events of Titantic versus those that did not. "
   ]
  },
  {
   "cell_type": "code",
   "execution_count": 39,
   "metadata": {
    "collapsed": true
   },
   "outputs": [],
   "source": [
    "titanic_data_path = 'data\\\\titanic-data.csv'\n",
    "titanic_data = pd.read_csv(titanic_data_path)"
   ]
  },
  {
   "cell_type": "code",
   "execution_count": 40,
   "metadata": {
    "collapsed": true
   },
   "outputs": [],
   "source": [
    "#Dropping data related to the name of the passenger, ticket and cabin as I will not be using them as part of my analysis.\n",
    "#I will also be dropping all passengers with NaN values in order to ensure that I do not run into problems later in my analysis.\n",
    "titanic_data_df = pd.DataFrame(titanic_data)\n",
    "titanic_data_df = titanic_data_df.drop(['Name', 'Ticket', 'Cabin'], axis=1).dropna()"
   ]
  },
  {
   "cell_type": "code",
   "execution_count": 41,
   "metadata": {},
   "outputs": [
    {
     "name": "stdout",
     "output_type": "stream",
     "text": [
      "   PassengerId  Survived  Pclass     Sex   Age  SibSp  Parch     Fare Embarked\n",
      "0            1         0       3    male  22.0      1      0   7.2500        S\n",
      "1            2         1       1  female  38.0      1      0  71.2833        C\n",
      "2            3         1       3  female  26.0      0      0   7.9250        S\n",
      "3            4         1       1  female  35.0      1      0  53.1000        S\n",
      "4            5         0       3    male  35.0      0      0   8.0500        S\n"
     ]
    }
   ],
   "source": [
    "#Looking at what the data looks like before beginning analysis\n",
    "#Note, the code below was ran first before I decided to use the dropna function\n",
    "print(titanic_data_df.head())"
   ]
  },
  {
   "cell_type": "code",
   "execution_count": 42,
   "metadata": {},
   "outputs": [
    {
     "name": "stdout",
     "output_type": "stream",
     "text": [
      "       PassengerId    Survived      Pclass         Age       SibSp  \\\n",
      "count   712.000000  712.000000  712.000000  712.000000  712.000000   \n",
      "mean    448.589888    0.404494    2.240169   29.642093    0.514045   \n",
      "std     258.683191    0.491139    0.836854   14.492933    0.930692   \n",
      "min       1.000000    0.000000    1.000000    0.420000    0.000000   \n",
      "25%     222.750000    0.000000    1.000000   20.000000    0.000000   \n",
      "50%     445.000000    0.000000    2.000000   28.000000    0.000000   \n",
      "75%     677.250000    1.000000    3.000000   38.000000    1.000000   \n",
      "max     891.000000    1.000000    3.000000   80.000000    5.000000   \n",
      "\n",
      "            Parch        Fare  \n",
      "count  712.000000  712.000000  \n",
      "mean     0.432584   34.567251  \n",
      "std      0.854181   52.938648  \n",
      "min      0.000000    0.000000  \n",
      "25%      0.000000    8.050000  \n",
      "50%      0.000000   15.645850  \n",
      "75%      1.000000   33.000000  \n",
      "max      6.000000  512.329200  \n"
     ]
    }
   ],
   "source": [
    "print(titanic_data_df.describe())"
   ]
  },
  {
   "cell_type": "markdown",
   "metadata": {},
   "source": [
    "Here, we can see that roughly 40% of passengers survived the events of Titanic (After we dropped all of the passengers with NaN values). Here, we can see that the average age of passengers onboard the Titanic is around 29-30. In addition, many passengers came with their siblings or with their family. In terms of fare paid, we see that the average person paid around 34, which is pretty far away from the maximum of 512. Furthermore, the standard deviation of the fare paid seems quite high as well."
   ]
  },
  {
   "cell_type": "code",
   "execution_count": 43,
   "metadata": {},
   "outputs": [
    {
     "name": "stdout",
     "output_type": "stream",
     "text": [
      "          PassengerId    Pclass        Age     SibSp     Parch       Fare\n",
      "Survived                                                                 \n",
      "0          442.299528  2.485849  30.626179  0.525943  0.365566  22.965456\n",
      "1          457.850694  1.878472  28.193299  0.496528  0.531250  51.647672\n"
     ]
    }
   ],
   "source": [
    "survival_group_data = titanic_data_df.groupby('Survived')\n",
    "print(survival_group_data.mean())"
   ]
  },
  {
   "cell_type": "markdown",
   "metadata": {},
   "source": [
    "Here, I grouped passenger data by based on whether they survived and printed the mean to see if there are any obvious differences between the two groups. At first glance, it seems that some of the noticeable differences between the passengers that survived and those did not not are their socio-economic class (Pclass) and the Fare paid. We can also see that that survived the events of Titanic are on average, slightly younger. However, I would have thought that the average age of those that survived will be much younger, especially since I would think that children onboard the Titanic will be prioritised. "
   ]
  },
  {
   "cell_type": "code",
   "execution_count": 44,
   "metadata": {
    "collapsed": true
   },
   "outputs": [],
   "source": [
    "#Separated data to include only those that survived\n",
    "survived_group = titanic_data_df[titanic_data_df['Survived'] == 1]\n",
    "survived_group_age = survived_group['Age']"
   ]
  },
  {
   "cell_type": "code",
   "execution_count": 45,
   "metadata": {
    "collapsed": true
   },
   "outputs": [],
   "source": [
    "#Separated data to include only those that did not survive\n",
    "did_not_survive_group = titanic_data_df[titanic_data_df['Survived'] == 0]\n",
    "did_not_survive_group_age = did_not_survive_group['Age']"
   ]
  },
  {
   "cell_type": "code",
   "execution_count": 46,
   "metadata": {},
   "outputs": [
    {
     "data": {
      "text/plain": [
       "Survived       \n",
       "0         count    424.000000\n",
       "          mean      30.626179\n",
       "          std       14.172110\n",
       "          min        1.000000\n",
       "          25%       21.000000\n",
       "          50%       28.000000\n",
       "          75%       39.000000\n",
       "          max       74.000000\n",
       "1         count    288.000000\n",
       "          mean      28.193299\n",
       "          std       14.859146\n",
       "          min        0.420000\n",
       "          25%       19.000000\n",
       "          50%       28.000000\n",
       "          75%       36.000000\n",
       "          max       80.000000\n",
       "Name: Age, dtype: float64"
      ]
     },
     "execution_count": 46,
     "metadata": {},
     "output_type": "execute_result"
    }
   ],
   "source": [
    "survival_group_data['Age'].describe()"
   ]
  },
  {
   "cell_type": "markdown",
   "metadata": {},
   "source": [
    "The describe data here is suprising to me at first. As with earlier, I would have thought that the average age of those that survived is much younger, and therefore would yield a standard deviation that is much larger. However, there does not seem to much difference at first glance between the group that survived and the group that did not. However, I believe further investigation will be required to find out why this is the case."
   ]
  },
  {
   "cell_type": "code",
   "execution_count": 47,
   "metadata": {},
   "outputs": [
    {
     "name": "stdout",
     "output_type": "stream",
     "text": [
      "Populating the interactive namespace from numpy and matplotlib\n"
     ]
    },
    {
     "data": {
      "text/plain": [
       "(array([  64.,  115.,  230.,  154.,   86.,   42.,   16.,    5.]),\n",
       " array([  0.42  ,  10.3675,  20.315 ,  30.2625,  40.21  ,  50.1575,\n",
       "         60.105 ,  70.0525,  80.    ]),\n",
       " <a list of 8 Patch objects>)"
      ]
     },
     "execution_count": 47,
     "metadata": {},
     "output_type": "execute_result"
    },
    {
     "data": {
      "image/png": "[encoded data removed]",
      "text/plain": [
       "<matplotlib.figure.Figure at 0x96fe860>"
      ]
     },
     "metadata": {},
     "output_type": "display_data"
    }
   ],
   "source": [
    "#Here, I have plotted the overall age of all passengers that were on the Titanic (Minus those with NaN data).\n",
    "# I have chosen to use Bins = 8 to align each bin nicely with the x axis. \n",
    "%pylab inline\n",
    "plt.xlabel(\"Age\")\n",
    "plt.ylabel(\"Count\")\n",
    "plt.title(\"Titanic Age of Passengers\")\n",
    "plt.hist(titanic_data_df['Age'], bins=8)"
   ]
  },
  {
   "cell_type": "code",
   "execution_count": 48,
   "metadata": {},
   "outputs": [
    {
     "data": {
      "text/plain": [
       "(array([ 38.,  44.,  84.,  68.,  33.,  17.,   3.,   1.]),\n",
       " array([  0.42  ,  10.3675,  20.315 ,  30.2625,  40.21  ,  50.1575,\n",
       "         60.105 ,  70.0525,  80.    ]),\n",
       " <a list of 8 Patch objects>)"
      ]
     },
     "execution_count": 48,
     "metadata": {},
     "output_type": "execute_result"
    },
    {
     "data": {
      "image/png": "[encoded data removed]",
      "text/plain": [
       "<matplotlib.figure.Figure at 0xbfe4b38>"
      ]
     },
     "metadata": {},
     "output_type": "display_data"
    }
   ],
   "source": [
    "#Plotting histogram for the ages of the passengers that survived\n",
    "plt.xlabel(\"Age\")\n",
    "plt.ylabel('Count')\n",
    "plt.title(\"Age Of Those That Survived\")\n",
    "plt.hist(survived_group_age,bins=8)"
   ]
  },
  {
   "cell_type": "code",
   "execution_count": 49,
   "metadata": {},
   "outputs": [
    {
     "data": {
      "text/plain": [
       "(array([  26.,   59.,  129.,   93.,   57.,   33.,   17.,   10.]),\n",
       " array([  1.   ,  10.125,  19.25 ,  28.375,  37.5  ,  46.625,  55.75 ,\n",
       "         64.875,  74.   ]),\n",
       " <a list of 8 Patch objects>)"
      ]
     },
     "execution_count": 49,
     "metadata": {},
     "output_type": "execute_result"
    },
    {
     "data": {
      "image/png": "[encoded data removed]",
      "text/plain": [
       "<matplotlib.figure.Figure at 0xc1ae7b8>"
      ]
     },
     "metadata": {},
     "output_type": "display_data"
    }
   ],
   "source": [
    "#Plotting the ages of the passengers that did not survive\n",
    "plt.xlabel(\"Age\")\n",
    "plt.ylabel(\"Count\")\n",
    "plt.title(\"Age Of Those That Did Not Survive\")\n",
    "plt.hist(did_not_survive_group_age,bins=8)"
   ]
  },
  {
   "cell_type": "markdown",
   "metadata": {},
   "source": [
    "The hisogram shows that the age of passengers onboard the Titanic is postively skewed. It also shows that most of the passengers are around the age 20 to 30 (Mode). In my opinion, this makes sense as the Titanic journey was a long one especially since the trip started as far as from Southampton and going all the way to New York$^1$. As people in their 20s and 30s are generally in their most active and adventurous stage of life (debatable), I believe they are more likely than those that are older or are very young to be in this trip. However, if we look at the graph of those that survived vs the graph of those that did not, we can see that many passengers that are younger than 18 survived the journey. In fact, it seems that this is the only age group that has a discernable difference between the two histograms (survived vs did not survive). At the same time, the other age group survival rate seemed to remained roughly the same. Furthermore, they make up a greater proportion (61/290 = 0.21) of the group that survived vs the group that did not(52/424 = 0.12) with a group overall survival rate of 61/(61+52) = 0.54. Most likely, this is because they were given the highest priority when evacuating the ship, especially since many of the minors are probably accompanying their parents. \n"
   ]
  },
  {
   "cell_type": "code",
   "execution_count": 108,
   "metadata": {},
   "outputs": [],
   "source": [
    "#Here, I am putting all passengers into Age Groups to gain insights on their survival rates.\n",
    "#Though I have included several age groups here, I will be ultimately focused on only those that were 18 and younger(Minors)\n",
    "#And those that are 18 and older (Adults). I will be seperating data on those that survived and those that did not.\n",
    "bins = [0, 18, 30, 40, 50, 60, 70, 100]\n",
    "group_name = [\"0 to 17\", \"18 to 29\", \"30 to 39\", \"40 to 49\", \"50 to 59\", \"60 to 69\", \"70 and above\"]\n",
    "survived_group['Age Group'] = pd.cut(survived_group['Age'], bins, labels = group_name, right=False, include_lowest=True)\n",
    "did_not_survive_group['Age Group'] = pd.cut(did_not_survive_group['Age'], bins, labels = group_name, right=False, include_lowest=True)"
   ]
  },
  {
   "cell_type": "code",
   "execution_count": 51,
   "metadata": {
    "collapsed": true
   },
   "outputs": [],
   "source": [
    "#Count the number of passengers in each age group and in the group that survived and those that did not\n",
    "survived_grouped_by_age = survived_group.groupby('Age Group')['Survived'].count()\n",
    "did_not_survive_group_by_age = did_not_survive_group.groupby('Age Group')['Survived'].count()"
   ]
  },
  {
   "cell_type": "code",
   "execution_count": 106,
   "metadata": {},
   "outputs": [
    {
     "name": "stdout",
     "output_type": "stream",
     "text": [
      "Age Group\n",
      "0 to 17         54.0\n",
      "18 to 29        35.0\n",
      "30 to 39        43.0\n",
      "40 to 49        38.0\n",
      "50 to 59        42.0\n",
      "60 to 69        28.0\n",
      "70 and above    14.0\n",
      "Name: Survived, dtype: float64\n"
     ]
    }
   ],
   "source": [
    "#Here I calculated the overall survival rate for each age group in proportions and rounded the numbers by 2 decimal places.\n",
    "#I then multiplied by 100 to get the percentage rather than the proportion\n",
    "overall_age_group_survival =  survived_grouped_by_age/(survived_grouped_by_age + did_not_survive_group_by_age)\n",
    "overall_age_group_survival = overall_age_group_survival.round(decimals = 2) \n",
    "print(overall_age_group_survival * 100)"
   ]
  },
  {
   "cell_type": "code",
   "execution_count": 53,
   "metadata": {},
   "outputs": [
    {
     "name": "stdout",
     "output_type": "stream",
     "text": [
      "Age Group\n",
      "0 to 17         1.399396\n",
      "18 to 29       -0.101569\n",
      "30 to 39        0.530416\n",
      "40 to 49        0.135425\n",
      "50 to 59        0.451418\n",
      "60 to 69       -0.654556\n",
      "70 and above   -1.760531\n",
      "Name: Survived, dtype: float64\n"
     ]
    }
   ],
   "source": [
    "#Here I calculated the standard deviation for each age group \n",
    "print(standardize_df(overall_age_group_survival))"
   ]
  },
  {
   "cell_type": "markdown",
   "metadata": {},
   "source": [
    "We can see here that being in the age group '0 to 17' tended to give you the highest chance to survive the events of Titanic at that time. Suprisingly besides the 0 to 17 group, being younger does not seem to be advantageous for one's survival at the time. Still, being at the other extreme end of being too old such as the age group 70 and above offers the lowest chance of survival. However, the data here this may not be accurate as the sample size is quite low. In addition, it might be useful to conduct a two porportion z-test to see whether the survival rate of being younger truly differed from those that are older at the time. It might be useful in this case, to seperate the age groups to only two groups, those younger than 18 (Minors) and those 18 and above (Adults). "
   ]
  },
  {
   "cell_type": "code",
   "execution_count": 107,
   "metadata": {},
   "outputs": [],
   "source": [
    "#Here I took passenger data on only whether they survived, in addition to their Sex and Age\n",
    "#Also,I grouped all passengers to either belonging to those younger than 18 (Minors) or those that are 18 and older (Adults)\n",
    "#I have decided to create a new Dataframe without modifying the original \n",
    "\n",
    "passenger_survival_data = titanic_data_df[['Survived', 'Sex', 'Age']]\n",
    "bins = [0, 18, 100]\n",
    "group_name = [\"Minors\", \"Adults\"]\n",
    "passenger_survival_data['Age Group'] = pd.cut(passenger_survival_data['Age'], bins, \\\n",
    "                                       labels = group_name, right=False, include_lowest=True)\n"
   ]
  },
  {
   "cell_type": "code",
   "execution_count": 55,
   "metadata": {
    "collapsed": true
   },
   "outputs": [],
   "source": [
    "#Seperating passengers into two groups, those that survived and those that did not\n",
    "survived_passengers = passenger_survival_data[passenger_survival_data['Survived'] == 1]\n",
    "did_not_survive_passengers = passenger_survival_data[passenger_survival_data['Survived'] == 0]"
   ]
  },
  {
   "cell_type": "code",
   "execution_count": 56,
   "metadata": {},
   "outputs": [],
   "source": [
    "#In addition to seperating groups into whether they survived, I also seperated them based on their respective age groups.\n",
    "#I have also calculated the mean survival rate(total_survival_Mean) as part of the two proportion z-test equation. \n",
    "#Note the equation of the two proportion z-test is defined as a function at the start of this notebook.\n",
    "minor_survival = passenger_survival_data[passenger_survival_data['Age Group'] == 'Minors']\n",
    "adult_survival = passenger_survival_data[passenger_survival_data['Age Group'] == 'Adults']\n",
    "survived_minors = minor_survival[minor_survival['Survived'] == 1]\n",
    "survived_adults = adult_survival[adult_survival['Survived'] == 1]\n",
    "total_survival_mean = passenger_survival_data['Survived'].mean()"
   ]
  },
  {
   "cell_type": "markdown",
   "metadata": {},
   "source": [
    "In order to prove the number of minors is significantly higher than the number of adults surviving, I will be performing a two proportion z test where $H_0$ is the null hypothesis and $H_1$ is the alternative hypothesis. The $\\alpha$ used will be 0.01 or 1%.\n",
    "\n",
    "$H_0$ $=$ $P_1$ >= $P_2$ (The proportion of minors surviving is less than or equal to the proportion of adults surviving) \n",
    "<br>\n",
    "$H_1$ $=$ $P_1$ < $P_2$ (The proportion of minors surviving is greater than the proportion of adults surviving where\n",
    "$\\alpha$ = 0.01)\n"
   ]
  },
  {
   "cell_type": "code",
   "execution_count": 61,
   "metadata": {},
   "outputs": [
    {
     "data": {
      "text/plain": [
       "3.195628633706721"
      ]
     },
     "execution_count": 61,
     "metadata": {},
     "output_type": "execute_result"
    }
   ],
   "source": [
    "#Calling Two Proportion Z Test function. This is defined at the top of the page.\n",
    "ztest(survived_minors, survived_adults, minor_survival, adult_survival, total_survival_mean)"
   ]
  },
  {
   "cell_type": "markdown",
   "metadata": {},
   "source": [
    "A z-score of 3.2 is equivalent to a p-value of 0.0007. As this value is lower than 0.01, we can reject the null hypothesis and conclude that minors has statistically higher survival rates than adults. \n",
    "\n",
    "Though a passenger on Titanic would seem to have a greater chance of surviving if they were younger than 18, it is likely that other factors or variables came into play as well that may have influenced survival rates. This includes whether the passengers were close to or were the first to be on lifeboats, whether a passenger came with friends and family (Supporting each other's escape) and whether one chose to stay behind to help others. (For example, it was known that all engineers onboard Titantic stayed behind and gave their lives to help other passengers escape$^2$."
   ]
  },
  {
   "cell_type": "markdown",
   "metadata": {},
   "source": [
    "I will also be examining how gender and socio-economic status group may have different survival rates. I will first be examining the survival rates between men and women at the time."
   ]
  },
  {
   "cell_type": "code",
   "execution_count": 62,
   "metadata": {
    "collapsed": true
   },
   "outputs": [],
   "source": [
    "#Seperating passenger survival data into two groups, male and female\n",
    "male_survival_data = passenger_survival_data[passenger_survival_data['Sex']=='male']\n",
    "female_survival_data = passenger_survival_data[passenger_survival_data['Sex']=='female']"
   ]
  },
  {
   "cell_type": "code",
   "execution_count": 63,
   "metadata": {},
   "outputs": [
    {
     "data": {
      "text/plain": [
       "Survived     0.205298\n",
       "Age         30.726645\n",
       "dtype: float64"
      ]
     },
     "execution_count": 63,
     "metadata": {},
     "output_type": "execute_result"
    }
   ],
   "source": [
    "male_survival_data.mean()"
   ]
  },
  {
   "cell_type": "code",
   "execution_count": 64,
   "metadata": {},
   "outputs": [
    {
     "data": {
      "text/plain": [
       "Survived     0.752896\n",
       "Age         27.745174\n",
       "dtype: float64"
      ]
     },
     "execution_count": 64,
     "metadata": {},
     "output_type": "execute_result"
    }
   ],
   "source": [
    "female_survival_data.mean()"
   ]
  },
  {
   "cell_type": "markdown",
   "metadata": {
    "collapsed": true
   },
   "source": [
    "Here we can see that the difference between male and female survival rates are extremely different. Infact, it seems that if\n",
    "you were male at the time on the Titanic, your chances seemed to be much lower (20.53%) than if you were a female (75.29%). \n",
    "This is probably expected as it likely that women and children received first priority when evacuating the ship$^3$. "
   ]
  },
  {
   "cell_type": "code",
   "execution_count": 65,
   "metadata": {},
   "outputs": [],
   "source": [
    "#Counting the total number of passengers that survived\n",
    "total_survived = survived_passengers.groupby(['Sex','Age Group'])['Survived'].count()"
   ]
  },
  {
   "cell_type": "code",
   "execution_count": 66,
   "metadata": {
    "collapsed": true
   },
   "outputs": [],
   "source": [
    "#Counting the total number of passengers that did not survive\n",
    "total_did_not_survive = did_not_survive_passengers.groupby(['Sex','Age Group'])['Survived'].count()"
   ]
  },
  {
   "cell_type": "code",
   "execution_count": 67,
   "metadata": {},
   "outputs": [
    {
     "data": {
      "text/plain": [
       "Sex     Age Group\n",
       "female  Minors        38\n",
       "        Adults       157\n",
       "male    Minors        23\n",
       "        Adults        70\n",
       "Name: Survived, dtype: int64"
      ]
     },
     "execution_count": 67,
     "metadata": {},
     "output_type": "execute_result"
    }
   ],
   "source": [
    "#Seeing first what the data looks like\n",
    "total_survived"
   ]
  },
  {
   "cell_type": "code",
   "execution_count": 68,
   "metadata": {},
   "outputs": [
    {
     "data": {
      "text/plain": [
       "Sex     Age Group\n",
       "female  Minors        17\n",
       "        Adults        47\n",
       "male    Minors        35\n",
       "        Adults       325\n",
       "Name: Survived, dtype: int64"
      ]
     },
     "execution_count": 68,
     "metadata": {},
     "output_type": "execute_result"
    }
   ],
   "source": [
    "total_did_not_survive"
   ]
  },
  {
   "cell_type": "markdown",
   "metadata": {},
   "source": [
    "In terms of absolute numbers, we can already see that the the number of adult males that did not survive is quite a bit larger that every other group that did not survive. On those that survived, female adults seems to comprise the largest, with male adults being second. "
   ]
  },
  {
   "cell_type": "code",
   "execution_count": 69,
   "metadata": {},
   "outputs": [
    {
     "data": {
      "text/plain": [
       "[<matplotlib.text.Text at 0xc676630>,\n",
       " [<matplotlib.text.Text at 0xc68f5f8>,\n",
       "  <matplotlib.text.Text at 0xc695550>,\n",
       "  <matplotlib.text.Text at 0xc6ac898>,\n",
       "  <matplotlib.text.Text at 0xc6acf28>],\n",
       " <matplotlib.text.Text at 0xc010a58>]"
      ]
     },
     "execution_count": 69,
     "metadata": {},
     "output_type": "execute_result"
    },
    {
     "data": {
      "image/png": "[encoded data removed]",
      "text/plain": [
       "<matplotlib.figure.Figure at 0xc3e0be0>"
      ]
     },
     "metadata": {},
     "output_type": "display_data"
    }
   ],
   "source": [
    "ax = total_survived.plot(x=1,kind='bar', title='Sex & Age Group (Survived)' )\n",
    "labels = ['Female Minors', 'Female Adults', 'Male Minors', 'Male Adults']\n",
    "ax.set(xlabel = \"Sex & Age Group\", ylabel=\"Number\", xticklabels = labels)"
   ]
  },
  {
   "cell_type": "code",
   "execution_count": 70,
   "metadata": {},
   "outputs": [
    {
     "data": {
      "text/plain": [
       "[<matplotlib.text.Text at 0xc9d2908>,\n",
       " [<matplotlib.text.Text at 0xc9e8710>,\n",
       "  <matplotlib.text.Text at 0xc9e8d68>,\n",
       "  <matplotlib.text.Text at 0xca9b160>,\n",
       "  <matplotlib.text.Text at 0xca9b7f0>],\n",
       " <matplotlib.text.Text at 0xc9c6320>]"
      ]
     },
     "execution_count": 70,
     "metadata": {},
     "output_type": "execute_result"
    },
    {
     "data": {
      "image/png": "[encoded data removed]",
      "text/plain": [
       "<matplotlib.figure.Figure at 0xc9b3940>"
      ]
     },
     "metadata": {},
     "output_type": "display_data"
    }
   ],
   "source": [
    "ax = total_did_not_survive.plot(x=1,kind='bar', title='Sex & Age Group (Did Not Survive)' )\n",
    "labels = ['Female Minors', 'Female Adults', 'Male Minors', 'Male Adults']\n",
    "ax.set(xlabel = \"Sex & Age Group\", ylabel=\"Number\", xticklabels = labels)"
   ]
  },
  {
   "cell_type": "markdown",
   "metadata": {},
   "source": [
    "Once again, we can see here that the group with the absolute highest number of people that survived was female adults while conversely, most of those that did not survive was male adults. It almost seem as if female adults and male adults are opposites in their survival rates. When it comes to minors, the absolute difference of those that survived versus those that did not are smaller (but still noticeable in higher in the group that survived). In thise case, looking at relative numbers may paint a more accurate picture of the survival rates between groups, especially since we have already found that you were more likely to survive if you were younger than 18 at the time. "
   ]
  },
  {
   "cell_type": "code",
   "execution_count": 895,
   "metadata": {},
   "outputs": [
    {
     "data": {
      "text/plain": [
       "Sex     Age Group\n",
       "female  Minors       0.690909\n",
       "        Adults       0.769608\n",
       "male    Minors       0.396552\n",
       "        Adults       0.177215\n",
       "Name: Survived, dtype: float64"
      ]
     },
     "execution_count": 895,
     "metadata": {},
     "output_type": "execute_result"
    }
   ],
   "source": [
    "#Finding the proportion of those that survived in each age group\n",
    "total_survived/(total_survived + total_did_not_survive)"
   ]
  },
  {
   "cell_type": "markdown",
   "metadata": {},
   "source": [
    "Compared to adult males, we can see that survival rates for males in the minor group are quite a bit higher. For females in the minor age group, it is only slightly less than female adults. For this reason, this data here is very suprising to me at first. Although we have conducted a z-test that concluded that minors had better survival rates than adults, it seems that it might be possible that this may no longer be true if we were to conduct a two prorpotion z-test, minors against female adults. The data here seems to suggest that females had almost or had the same priority as children, although further analysis will be required before we can make any conclusions. In addition, we can also see that male adults consist of an overwhelming majority of those that did not survive, and this may have biased the data when conducting the two proportion z-test between minors and adults."
   ]
  },
  {
   "cell_type": "markdown",
   "metadata": {
    "collapsed": true
   },
   "source": [
    "Finally, I will now explore the different survival rates between a passenger's socioeconomic class in addition to the amount of fare a passenger paid for the trip"
   ]
  },
  {
   "cell_type": "code",
   "execution_count": 75,
   "metadata": {
    "collapsed": true
   },
   "outputs": [],
   "source": [
    "socioeconomic_survival_df = titanic_data_df[['Survived','Pclass', 'Fare', 'Embarked','Age']]"
   ]
  },
  {
   "cell_type": "code",
   "execution_count": 81,
   "metadata": {},
   "outputs": [],
   "source": [
    "#Grouping passenger survival data by passenger Port of Embarkation\n",
    "#C = Cherbourg, Q = Queenstown, S = Southampton\n",
    "survival_data_by_embarkation = socioeconomic_survival_df.groupby('Embarked')"
   ]
  },
  {
   "cell_type": "code",
   "execution_count": 82,
   "metadata": {},
   "outputs": [
    {
     "data": {
      "text/html": [
       "<div>\n",
       "<table border=\"1\" class=\"dataframe\">\n",
       "  <thead>\n",
       "    <tr style=\"text-align: right;\">\n",
       "      <th></th>\n",
       "      <th>Survived</th>\n",
       "      <th>Pclass</th>\n",
       "      <th>Fare</th>\n",
       "      <th>Age</th>\n",
       "    </tr>\n",
       "    <tr>\n",
       "      <th>Embarked</th>\n",
       "      <th></th>\n",
       "      <th></th>\n",
       "      <th></th>\n",
       "      <th></th>\n",
       "    </tr>\n",
       "  </thead>\n",
       "  <tbody>\n",
       "    <tr>\n",
       "      <th>C</th>\n",
       "      <td>0.607692</td>\n",
       "      <td>1.746154</td>\n",
       "      <td>68.296767</td>\n",
       "      <td>30.814769</td>\n",
       "    </tr>\n",
       "    <tr>\n",
       "      <th>Q</th>\n",
       "      <td>0.285714</td>\n",
       "      <td>2.785714</td>\n",
       "      <td>18.265775</td>\n",
       "      <td>28.089286</td>\n",
       "    </tr>\n",
       "    <tr>\n",
       "      <th>S</th>\n",
       "      <td>0.362816</td>\n",
       "      <td>2.328520</td>\n",
       "      <td>27.476284</td>\n",
       "      <td>29.445397</td>\n",
       "    </tr>\n",
       "  </tbody>\n",
       "</table>\n",
       "</div>"
      ],
      "text/plain": [
       "          Survived    Pclass       Fare        Age\n",
       "Embarked                                          \n",
       "C         0.607692  1.746154  68.296767  30.814769\n",
       "Q         0.285714  2.785714  18.265775  28.089286\n",
       "S         0.362816  2.328520  27.476284  29.445397"
      ]
     },
     "execution_count": 82,
     "metadata": {},
     "output_type": "execute_result"
    }
   ],
   "source": [
    "survival_data_by_embarkation.mean()"
   ]
  },
  {
   "cell_type": "code",
   "execution_count": 90,
   "metadata": {},
   "outputs": [
    {
     "data": {
      "text/plain": [
       "Embarked  Pclass\n",
       "C         1          74\n",
       "          2          15\n",
       "          3          41\n",
       "Q         1           2\n",
       "          2           2\n",
       "          3          24\n",
       "S         1         108\n",
       "          2         156\n",
       "          3         290\n",
       "Name: Survived, dtype: int64"
      ]
     },
     "execution_count": 90,
     "metadata": {},
     "output_type": "execute_result"
    }
   ],
   "source": [
    "#Grouping by Port of Embarkation and Pclass and counting the number of passegers that belonged to each group\n",
    "socioeconomic_survival_df.groupby(['Embarked', 'Pclass'])['Survived'].count()"
   ]
  },
  {
   "cell_type": "code",
   "execution_count": 79,
   "metadata": {},
   "outputs": [],
   "source": [
    "#Grouping passenger survival data by Pclass\n",
    "survival_data_by_pclass = socioeconomic_survival_df.groupby('Pclass')"
   ]
  },
  {
   "cell_type": "code",
   "execution_count": 80,
   "metadata": {},
   "outputs": [
    {
     "data": {
      "text/html": [
       "<div>\n",
       "<table border=\"1\" class=\"dataframe\">\n",
       "  <thead>\n",
       "    <tr style=\"text-align: right;\">\n",
       "      <th></th>\n",
       "      <th>Survived</th>\n",
       "      <th>Fare</th>\n",
       "      <th>Age</th>\n",
       "    </tr>\n",
       "    <tr>\n",
       "      <th>Pclass</th>\n",
       "      <th></th>\n",
       "      <th></th>\n",
       "      <th></th>\n",
       "    </tr>\n",
       "  </thead>\n",
       "  <tbody>\n",
       "    <tr>\n",
       "      <th>1</th>\n",
       "      <td>0.652174</td>\n",
       "      <td>88.048121</td>\n",
       "      <td>38.105543</td>\n",
       "    </tr>\n",
       "    <tr>\n",
       "      <th>2</th>\n",
       "      <td>0.479769</td>\n",
       "      <td>21.471556</td>\n",
       "      <td>29.877630</td>\n",
       "    </tr>\n",
       "    <tr>\n",
       "      <th>3</th>\n",
       "      <td>0.239437</td>\n",
       "      <td>13.229435</td>\n",
       "      <td>25.140620</td>\n",
       "    </tr>\n",
       "  </tbody>\n",
       "</table>\n",
       "</div>"
      ],
      "text/plain": [
       "        Survived       Fare        Age\n",
       "Pclass                                \n",
       "1       0.652174  88.048121  38.105543\n",
       "2       0.479769  21.471556  29.877630\n",
       "3       0.239437  13.229435  25.140620"
      ]
     },
     "execution_count": 80,
     "metadata": {},
     "output_type": "execute_result"
    }
   ],
   "source": [
    "survival_data_by_pclass.mean()"
   ]
  },
  {
   "cell_type": "code",
   "execution_count": 928,
   "metadata": {},
   "outputs": [
    {
     "data": {
      "text/plain": [
       "Sex     Pclass\n",
       "female  1          83\n",
       "        2          74\n",
       "        3         102\n",
       "male    1         101\n",
       "        2          99\n",
       "        3         253\n",
       "Name: Survived, dtype: int64"
      ]
     },
     "execution_count": 928,
     "metadata": {},
     "output_type": "execute_result"
    }
   ],
   "source": [
    "#Grouping passengers into their socio-economic class and sex, and counting how many belonged to each class\n",
    "socioeconomic_survival_df.groupby(['Sex', 'Pclass'])['Survived'].count()"
   ]
  },
  {
   "cell_type": "code",
   "execution_count": 74,
   "metadata": {},
   "outputs": [
    {
     "data": {
      "text/plain": [
       "-0.55289322064576008"
      ]
     },
     "execution_count": 74,
     "metadata": {},
     "output_type": "execute_result"
    }
   ],
   "source": [
    "#Correlation between socio-economic class and fare.\n",
    "#The value we get here is negative as a smaller Pclass means a higher class\n",
    "socioeconomic_survival_df['Pclass'].corr(socioeconomic_survival_df['Fare'])"
   ]
  },
  {
   "cell_type": "code",
   "execution_count": null,
   "metadata": {
    "collapsed": true
   },
   "outputs": [],
   "source": []
  },
  {
   "cell_type": "markdown",
   "metadata": {},
   "source": [
    "Not suprisingly, there is a relatively high correlation of 55% of socio-economic class and the fare paid. One possible limitation here is that the average fare take into account the passengers from all 'Ports of Embarkation'. It is likely that passengers paid very different fares coming from a different origin. As we can see above, those coming from Cherbough paid the highest fares and had the best survival rates, while those that paid the lowest came from Queenstown and had the worse survival rates. One reason that this may be the the case is that most of the passengers from Cherbough were first class passengers while for those coming from Queenstown, it was mostly third class passengers. (Being in Pclass 1 is correlated with the overall highest survival rates while Pclass 3 passengers had the lowest survival rates)\n",
    "\n",
    "We can also see here seem that those that are in the highest socio-economic class along with those that paid the most in terms of fare had the best survival rates of 65%. Some reasons this may be the case is higher quality of safety equipment and gear, better layout of escape routes,bbeing prioritised, less crowded space allowing faster escape, being located closer to the exit, better disaster instructions and management, or even better education. In fact, titanic first class was known for its luxury at the time $^4$.  However none of these factors are certain but the data here does seem to suggest at least some of these facors  may have led to improved survival rates here.\n",
    "\n",
    "Furthermore, it does not seem to be the case that the increased survival rates of Pclass 1 passengers can be explained by the passengers being a majority as female or are minors. In addition, we can  see the number of females in Pclass 1 is actually less than males, and that the average age of Pclass 1 passengers is actualy the highest amoung all Pclasses. In terms of Pclass 3, it may be possible that a factor that may have contributed to the low survival rates of this group is due to it being a majority consisting of men (who has the lowest survival rates), though this may not be the only reason and cannot be concluded until further analysis."
   ]
  },
  {
   "cell_type": "code",
   "execution_count": 981,
   "metadata": {},
   "outputs": [
    {
     "data": {
      "image/png": "[encoded data removed]",
      "text/plain": [
       "<matplotlib.figure.Figure at 0x262849b0>"
      ]
     },
     "metadata": {},
     "output_type": "display_data"
    }
   ],
   "source": [
    "#Scatter plot with Age as the independent Variable and Fare as the dependent. \n",
    "#This is to see if there is any relationship between Age and Fare which may have played a part in survival rates.\n",
    "plt.xlabel(\"Age\")\n",
    "plt.ylabel('Fare')\n",
    "plt.margins(0)\n",
    "plt.scatter(socioeconomic_survival_df['Age'],socioeconomic_survival_df['Fare'])"
   ]
  },
  {
   "cell_type": "code",
   "execution_count": 985,
   "metadata": {},
   "outputs": [
    {
     "data": {
      "text/plain": [
       "0.093142517894115193"
      ]
     },
     "execution_count": 985,
     "metadata": {},
     "output_type": "execute_result"
    }
   ],
   "source": [
    "socioeconomic_survival_df['Age'].corr(socioeconomic_survival_df['Fare'])"
   ]
  },
  {
   "cell_type": "markdown",
   "metadata": {},
   "source": [
    "Suprisingly, there does not seem to be much of a correlation between Age and the Fare paid even though Pclass 1 passengers had the highest average age. We can also see here that the fare paid for the age group with the best survival rates (0 to 17) do not seem much different from the other groups. It is possible, that tickets for children at the time were lower in price than the adult equivalent. However, this scatterplot seems to suggest a only very weak relationship between fare paid and age. We saw earlier that there is a relatively high correlation between Fare and Pclass, and therefore it does not seem very likely that being older is more likely to put you in a higher Pclass at the time. This means that the higher survival rates of Pclass 1 passengers are unlikely to be due to Age of the passengers. \n",
    "\n",
    "Note that there are two outliers in the scatterplot. This means which our earlier data on the mean fare paid by passengers may have been biased higher by these two outlers."
   ]
  },
  {
   "cell_type": "code",
   "execution_count": 96,
   "metadata": {},
   "outputs": [],
   "source": [
    "#Putting Passengers into groups based on how much they paid for the Titanic trip\n",
    "bins = [0, 50, 100, 300, 1000]\n",
    "labels = ['0 to 50', ' 51 to 100', '101 to 300',  '301<']\n",
    "socioeconomic_survival_df['Fare Range'] = pd.cut(socioeconomic_survival_df['Fare'], bins, labels = labels, right=False, include_lowest=True)"
   ]
  },
  {
   "cell_type": "code",
   "execution_count": 103,
   "metadata": {},
   "outputs": [],
   "source": [
    "#Grouping survival data by Fare Range, which we have created above\n",
    "survival_data_grouped_by_fare_range =  socioeconomic_survival_df.groupby('Fare Range', as_index=False).mean()"
   ]
  },
  {
   "cell_type": "code",
   "execution_count": 104,
   "metadata": {},
   "outputs": [
    {
     "data": {
      "image/png": "[encoded data removed]",
      "text/plain": [
       "<matplotlib.figure.Figure at 0xd20ff28>"
      ]
     },
     "metadata": {},
     "output_type": "display_data"
    }
   ],
   "source": [
    "#A quick plot to show that passengers that paid more is correlated with higher survival rates. \n",
    "#An interesting thing to note is that the two outlier passengers that paid more than 300 both survived\n",
    "sns.pointplot(x=\"Fare Range\", y=\"Survived\", data=survival_data_grouped_by_fare_range);"
   ]
  },
  {
   "cell_type": "markdown",
   "metadata": {},
   "source": [
    "To conclude, it seems that if you were a passenger on the Titanic at the time, you had a greater chance of survival if you were under 18. Passengers who were female, paid higher fares and subsequently who are in a higher Pclass were correlated with higher survival rates as well. It was very likely that children and females were prioritied when evacuating the ship.\n",
    "\n",
    "I also found that unless you were under 18, being younger does not seem to be correlated with higher survival rates and being older does not seem to be correlated with the fare paid either. This means the higher survival rates of higher Pclass passengers does not seem to be due to age of the passengers. Furthermore, even though it seemed female adults had a greater survival rate, the sex distribution of Pclass 1 passengers were more or less 50 50 with a little more passengers being male (Although they make up most of the Pclass 3 passengers as well. Although no conclusion can be made for why higher Pclass passengers are more likely to have survived at the time, it was more likely due to unexplored variables such as being in a less crowded room when escaping to lifeboats, better equipment, instructions, being prioritised etc. \n",
    "\n",
    "Interestingly, we also found that Passengers whose port of embarkation was Queenstown rather than Cherbourg survived less overall as a group, although a casual relationship cannot be drawn. Furthermore, this is more likely due to the fact that Cherbough passengers were mostly Pclass 1 in contrast with Queenstown passengers who are mostly Pclass 3 (Although this cannot be proven a cause and effect relationship without further analysis). "
   ]
  },
  {
   "cell_type": "code",
   "execution_count": null,
   "metadata": {
    "collapsed": true
   },
   "outputs": [],
   "source": [
    "References:\n",
    "1. http://www.titanicfacts.net/titanic-maiden-voyage.html\n",
    "2. https://www.theguardian.com/uk/2012/apr/10/heroic-role-titanic-engineer\n",
    "3. http://www.dailymail.co.uk/sciencetech/article-1254788/Why-women-children-saved-Titanic-Lusitania.html\n",
    "4. http://www.nytimes.com/2012/04/08/sunday-review/the-not-so-luxurious-titanic.html?mcubz=3"
   ]
  }
 ],
 "metadata": {
  "kernelspec": {
   "display_name": "Python [conda env:DAND]",
   "language": "python",
   "name": "conda-env-DAND-py"
  },
  "language_info": {
   "codemirror_mode": {
    "name": "ipython",
    "version": 2
   },
   "file_extension": ".py",
   "mimetype": "text/x-python",
   "name": "python",
   "nbconvert_exporter": "python",
   "pygments_lexer": "ipython2",
   "version": "2.7.12"
  }
 },
 "nbformat": 4,
 "nbformat_minor": 2
}
